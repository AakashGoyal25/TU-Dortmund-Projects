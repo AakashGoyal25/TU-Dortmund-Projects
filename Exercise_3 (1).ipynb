{
 "cells": [
  {
   "cell_type": "markdown",
   "metadata": {},
   "source": [
    "# Sheet 3 - Practical Exercise"
   ]
  },
  {
   "cell_type": "code",
   "execution_count": 76,
   "metadata": {},
   "outputs": [],
   "source": [
    "#Import packages and Dataset\n",
    "import numpy as np\n",
    "import pandas as pd\n",
    "\n",
    "fifa20 = pd.read_csv(\"C:\\\\Users\\\\HITES\\\\fifa20.csv\")#Change path according to your files"
   ]
  },
  {
   "cell_type": "markdown",
   "metadata": {},
   "source": [
    "Take the following SQL-Queries and use Pandas to achieve the same result."
   ]
  },
  {
   "cell_type": "markdown",
   "metadata": {},
   "source": [
    "### First Query\n",
    "```sql\n",
    "SELECT short_name, overall, value_eur, wage_eur \n",
    "FROM fifa_20 \n",
    "WHERE overall > 80 and club = 'Borussia Dortmund'\n",
    "``` "
   ]
  },
  {
   "cell_type": "code",
   "execution_count": 77,
   "metadata": {},
   "outputs": [
    {
     "name": "stdout",
     "output_type": "stream",
     "text": [
      "       short_name  overall  value_eur  wage_eur\n",
      "37        M. Reus       88   56000000    170000\n",
      "49     M. Hummels       87   41000000    130000\n",
      "88       R. Bürki       85   32000000     92000\n",
      "102     A. Witsel       85   31500000    110000\n",
      "108     J. Sancho       84   44500000     61000\n",
      "118     J. Brandt       84   40500000     94000\n",
      "170     M. Akanji       83   31000000     77000\n",
      "186  Paco Alcácer       83   32000000    105000\n",
      "270      M. Götze       82   26000000     98000\n",
      "271    T. Delaney       82   23000000     82000\n",
      "275     N. Schulz       82   22500000     82000\n",
      "281     T. Hazard       82   26000000     90000\n",
      "357  R. Guerreiro       81   21500000     79000\n",
      "382   L. Piszczek       81    6000000     76000\n"
     ]
    }
   ],
   "source": [
    "#Recreate the first query with pandas\n",
    "query1 = fifa20.loc[(fifa20[\"club\"] == \"Borussia Dortmund\") & (fifa20[\"overall\"] > 80), [\"short_name\",\"overall\",\"value_eur\",\"wage_eur\"]]\n",
    "print(query1)"
   ]
  },
  {
   "cell_type": "markdown",
   "metadata": {},
   "source": [
    "### Second Query\n",
    "```sql\n",
    "SELECT short_name, overall \n",
    "FROM fifa_20 \n",
    "WHERE club in ('Borussia Dortmund','FC Bayern München') and nationality = 'France'\n",
    "``` "
   ]
  },
  {
   "cell_type": "code",
   "execution_count": 78,
   "metadata": {},
   "outputs": [
    {
     "name": "stdout",
     "output_type": "stream",
     "text": [
      "         short_name  overall\n",
      "114    L. Hernández       84\n",
      "119        K. Coman       84\n",
      "166      C. Tolisso       83\n",
      "588      D. Zagadou       79\n",
      "597       B. Pavard       79\n",
      "3302    M. Cuisance       72\n",
      "15328   K. Bafounta       59\n"
     ]
    }
   ],
   "source": [
    "#Recreate the second query with pandas\n",
    "query2 = fifa20.loc[(fifa20[\"club\"].isin([\"Borussia Dortmund\",\"FC Bayern München\"])) & (fifa20[\"nationality\"] == \"France\"), [\"short_name\",\"overall\"]]\n",
    "print(query2)"
   ]
  },
  {
   "cell_type": "markdown",
   "metadata": {},
   "source": [
    "### Third Query\n",
    "```sql\n",
    "SELECT nationality, count(*) \n",
    "FROM fifa_20 \n",
    "GROUP BY nationality \n",
    "ORDER BY count\n",
    "``` "
   ]
  },
  {
   "cell_type": "code",
   "execution_count": 79,
   "metadata": {},
   "outputs": [
    {
     "name": "stdout",
     "output_type": "stream",
     "text": [
      "     nationality  count(*)\n",
      "45       England      1667\n",
      "57       Germany      1216\n",
      "136        Spain      1035\n",
      "53        France       984\n",
      "5      Argentina       886\n",
      "..           ...       ...\n",
      "96        Malawi         1\n",
      "100    Mauritius         1\n",
      "138     St Lucia         1\n",
      "135  South Sudan         1\n",
      "81        Jordan         1\n",
      "\n",
      "[162 rows x 2 columns]\n"
     ]
    }
   ],
   "source": [
    "#Recreate the third query with pandas\n",
    "query3=fifa20.groupby(['nationality']).size().to_frame('size').reset_index().sort_values(['size'], ascending=[False]).rename(columns={'size': 'count(*)'})\n",
    "print(query3)"
   ]
  },
  {
   "cell_type": "markdown",
   "metadata": {},
   "source": [
    "### Fourth Query\n",
    "```sql\n",
    "SELECT club, count(*) \n",
    "FROM fifa20 \n",
    "WHERE potential > 85 \n",
    "GROUP BY club having count(*) > 10\n",
    "ORDER BY count(*) desc\n",
    "``` "
   ]
  },
  {
   "cell_type": "code",
   "execution_count": 83,
   "metadata": {},
   "outputs": [
    {
     "name": "stdout",
     "output_type": "stream",
     "text": [
      "                  club  count(*)\n",
      "5          Real Madrid        19\n",
      "0         FC Barcelona        17\n",
      "1    FC Bayern München        14\n",
      "3      Manchester City        14\n",
      "6    Tottenham Hotspur        13\n",
      "2             Juventus        12\n",
      "4  Paris Saint-Germain        11\n"
     ]
    }
   ],
   "source": [
    "#Recreate the fourth query with pandas\n",
    "query4=fifa20[fifa20[\"potential\"] > 85].groupby('club').filter(lambda g: len(g) > 10).groupby('club').size().to_frame('size').reset_index().sort_values(['size'],ascending=False).rename(columns={'size': 'count(*)'})\n",
    "print(query4)\n"
   ]
  },
  {
   "cell_type": "markdown",
   "metadata": {},
   "source": [
    "### Fifth Query\n",
    "For the last query we create two additional dataframes that you have to join"
   ]
  },
  {
   "cell_type": "code",
   "execution_count": 81,
   "metadata": {},
   "outputs": [],
   "source": [
    "#Do NOT change this code \n",
    "player_values = fifa20[['short_name','club','age','height_cm','weight_kg']]\n",
    "fifa_club = fifa20[['short_name','club','overall','potential']]"
   ]
  },
  {
   "cell_type": "markdown",
   "metadata": {},
   "source": [
    "```sql\n",
    "SELECT short_name, age, overall \n",
    "FROM player_values JOIN fifa_club on fifa_club.short_name = player_values.short_name\n",
    "WHERE fifa_club.club == 'Borussia Dortmund'\n",
    "``` "
   ]
  },
  {
   "cell_type": "code",
   "execution_count": 82,
   "metadata": {},
   "outputs": [
    {
     "name": "stdout",
     "output_type": "stream",
     "text": [
      "           short_name  age  overall\n",
      "48            M. Reus   30       88\n",
      "63         M. Hummels   30       87\n",
      "126          R. Bürki   28       85\n",
      "151         A. Witsel   30       85\n",
      "277         J. Sancho   19       84\n",
      "290         J. Brandt   23       84\n",
      "446         M. Akanji   23       83\n",
      "470      Paco Alcácer   25       83\n",
      "571          M. Götze   27       82\n",
      "572        T. Delaney   27       82\n",
      "576         N. Schulz   26       82\n",
      "582         T. Hazard   26       82\n",
      "708      R. Guerreiro   25       81\n",
      "773       L. Piszczek   34       81\n",
      "896          J. Weigl   23       80\n",
      "1108        A. Hakimi   20       79\n",
      "1111       D. Zagadou   20       79\n",
      "1374        M. Dahoud   23       78\n",
      "1651          M. Hitz   31       78\n",
      "2481     M. Schmelzer   31       76\n",
      "2634        J. Larsen   20       75\n",
      "2636        J. Larsen   28       75\n",
      "2772          M. Wolf   24       75\n",
      "13084  E. Oelschlägel   23       65\n",
      "13851     Mateu Morey   19       64\n",
      "13855      L. Balerdi   20       64\n",
      "17518       T. Raschl   19       60\n",
      "17596       D. Wanner   20       60\n",
      "18154     K. Bafounta   17       59\n",
      "18167     L. Unbehaun   18       59\n",
      "18717        A. Bakir   18       58\n",
      "19197    P. Osterhage   19       57\n"
     ]
    }
   ],
   "source": [
    "#Recreate the fifth query with pandas\n",
    "#player_values.merge(fifa_club[fifa_club.club == 'Borussia Dortmund'][['short_name']], left_on=player_values.short_name, right_on=fifa_club.short_name, how='inner')[['short_name', 'age', 'overall']]\n",
    "df=pd.merge(player_values,fifa_club,on=\"short_name\")\n",
    "query5=df.loc[(df[\"club_y\"] == \"Borussia Dortmund\") ,[\"short_name\",\"age\",\"overall\"]]\n",
    "print(query5)"
   ]
  }
 ],
 "metadata": {
  "kernelspec": {
   "display_name": "Python 3",
   "language": "python",
   "name": "python3"
  },
  "language_info": {
   "codemirror_mode": {
    "name": "ipython",
    "version": 3
   },
   "file_extension": ".py",
   "mimetype": "text/x-python",
   "name": "python",
   "nbconvert_exporter": "python",
   "pygments_lexer": "ipython3",
   "version": "3.8.5"
  }
 },
 "nbformat": 4,
 "nbformat_minor": 4
}
